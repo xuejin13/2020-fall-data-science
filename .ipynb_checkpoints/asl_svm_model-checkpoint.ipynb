{
 "cells": [
  {
   "cell_type": "code",
   "execution_count": 1,
   "metadata": {},
   "outputs": [],
   "source": [
    "# Import Libraries\n",
    "import os\n",
    "\n",
    "import pandas as pd\n",
    "import numpy as np\n",
    "\n",
    "from sklearn import metrics\n",
    "from sklearn.model_selection import train_test_split\n",
    "from sklearn.svm import SVC, LinearSVC\n",
    "from sklearn.ensemble import RandomForestClassifier\n",
    "\n",
    "import seaborn as sns\n",
    "import matplotlib.pyplot as plt\n",
    "%matplotlib inline\n",
    "\n",
    "import PIL\n",
    "import cv2\n",
    "import string\n",
    "import pickle\n",
    "import random"
   ]
  },
  {
   "cell_type": "code",
   "execution_count": 2,
   "metadata": {},
   "outputs": [
    {
     "name": "stdout",
     "output_type": "stream",
     "text": [
      "<class 'numpy.ndarray'> <class 'numpy.ndarray'>\n"
     ]
    }
   ],
   "source": [
    "X = pickle.load(open('X.pickle', 'rb'))\n",
    "y = pickle.load(open('y.pickle', 'rb'))\n",
    "\n",
    "X = X/255.0\n",
    "print(type(X), type(y))"
   ]
  },
  {
   "cell_type": "code",
   "execution_count": 4,
   "metadata": {},
   "outputs": [
    {
     "name": "stdout",
     "output_type": "stream",
     "text": [
      "[[0.11372549 0.14509804 0.13333333 ... 0.44313725 0.45098039 0.44313725]\n",
      " [0.09019608 0.12941176 0.1254902  ... 0.47843137 0.49803922 0.50588235]\n",
      " [0.12156863 0.10588235 0.10980392 ... 0.93333333 0.95686275 0.96078431]]\n"
     ]
    }
   ],
   "source": [
    "print(X[:3])"
   ]
  },
  {
   "cell_type": "code",
   "execution_count": 5,
   "metadata": {},
   "outputs": [
    {
     "name": "stdout",
     "output_type": "stream",
     "text": [
      "['F' 'S' 'L']\n"
     ]
    }
   ],
   "source": [
    "print(y[:3])"
   ]
  },
  {
   "cell_type": "code",
   "execution_count": 6,
   "metadata": {},
   "outputs": [],
   "source": [
    "X_train, X_test, y_train, y_test = train_test_split(X, y, test_size=0.1, random_state=10)"
   ]
  },
  {
   "cell_type": "code",
   "execution_count": 7,
   "metadata": {},
   "outputs": [
    {
     "name": "stdout",
     "output_type": "stream",
     "text": [
      "Training set size: 9135\n",
      "Testing set size : 1015\n"
     ]
    }
   ],
   "source": [
    "print(f'Training set size: {len(X_train)}')\n",
    "print(f'Testing set size : {len(X_test)}')"
   ]
  },
  {
   "cell_type": "code",
   "execution_count": 12,
   "metadata": {},
   "outputs": [
    {
     "data": {
      "text/plain": [
       "4096"
      ]
     },
     "execution_count": 12,
     "metadata": {},
     "output_type": "execute_result"
    }
   ],
   "source": [
    "len(X_train[0])"
   ]
  },
  {
   "cell_type": "code",
   "execution_count": 8,
   "metadata": {},
   "outputs": [
    {
     "data": {
      "text/plain": [
       "array([0.12156863, 0.13333333, 0.13333333, ..., 0.44313725, 0.44313725,\n",
       "       0.45098039])"
      ]
     },
     "execution_count": 8,
     "metadata": {},
     "output_type": "execute_result"
    }
   ],
   "source": [
    "X_train[0]"
   ]
  },
  {
   "cell_type": "code",
   "execution_count": null,
   "metadata": {},
   "outputs": [],
   "source": [
    "lsvm_model = LinearSVC()\n",
    "\n",
    "lsvm_model.fit(X_train, y_train)\n",
    "%time"
   ]
  },
  {
   "cell_type": "code",
   "execution_count": 9,
   "metadata": {},
   "outputs": [
    {
     "data": {
      "text/plain": [
       "SVC()"
      ]
     },
     "execution_count": 9,
     "metadata": {},
     "output_type": "execute_result"
    }
   ],
   "source": [
    "svm_model = SVC()\n",
    "\n",
    "svm_model.fit(X_train, y_train)"
   ]
  },
  {
   "cell_type": "code",
   "execution_count": 10,
   "metadata": {},
   "outputs": [],
   "source": [
    "y_pred = svm_model.predict(X_test)"
   ]
  },
  {
   "cell_type": "code",
   "execution_count": 11,
   "metadata": {
    "scrolled": true
   },
   "outputs": [
    {
     "name": "stdout",
     "output_type": "stream",
     "text": [
      "              precision    recall  f1-score   support\n",
      "\n",
      "           A       0.72      0.89      0.79        35\n",
      "           B       0.67      0.77      0.71        39\n",
      "           C       0.97      0.88      0.92        33\n",
      "           D       0.68      0.90      0.77        30\n",
      "           E       0.83      0.81      0.82        42\n",
      "           F       0.72      0.81      0.76        36\n",
      "           G       0.81      0.71      0.76        31\n",
      "           H       0.73      0.89      0.80        27\n",
      "           I       0.78      0.78      0.78        37\n",
      "           J       0.92      0.79      0.85        43\n",
      "           K       0.91      0.89      0.90        36\n",
      "           L       0.83      0.80      0.81        30\n",
      "           M       0.73      0.76      0.75        29\n",
      "           N       0.81      0.78      0.79        32\n",
      "           O       0.60      0.76      0.67        37\n",
      "           P       0.81      0.97      0.88        30\n",
      "           Q       0.77      0.69      0.73        29\n",
      "           R       0.50      0.81      0.62        32\n",
      "           S       0.84      0.58      0.69        36\n",
      "           T       0.79      0.47      0.59        40\n",
      "           U       0.77      0.50      0.61        40\n",
      "           V       0.96      0.61      0.74        38\n",
      "           W       0.86      0.56      0.68        34\n",
      "           X       0.79      0.82      0.80        40\n",
      "           Y       0.48      0.45      0.46        29\n",
      "           Z       0.67      0.72      0.69        36\n",
      "         del       0.94      0.76      0.84        38\n",
      "     nothing       1.00      1.00      1.00        35\n",
      "       space       0.61      0.90      0.73        41\n",
      "\n",
      "    accuracy                           0.76      1015\n",
      "   macro avg       0.78      0.76      0.76      1015\n",
      "weighted avg       0.78      0.76      0.76      1015\n",
      "\n"
     ]
    }
   ],
   "source": [
    "print( metrics.classification_report(y_test, y_pred) )"
   ]
  },
  {
   "cell_type": "code",
   "execution_count": null,
   "metadata": {},
   "outputs": [],
   "source": []
  }
 ],
 "metadata": {
  "kernelspec": {
   "display_name": "Python 3.8.3 64-bit ('base': conda)",
   "language": "python",
   "name": "python38364bitbaseconda51754af3a9af4805910a0578f26a2c68"
  },
  "language_info": {
   "codemirror_mode": {
    "name": "ipython",
    "version": 3
   },
   "file_extension": ".py",
   "mimetype": "text/x-python",
   "name": "python",
   "nbconvert_exporter": "python",
   "pygments_lexer": "ipython3",
   "version": "3.8.3"
  }
 },
 "nbformat": 4,
 "nbformat_minor": 4
}
